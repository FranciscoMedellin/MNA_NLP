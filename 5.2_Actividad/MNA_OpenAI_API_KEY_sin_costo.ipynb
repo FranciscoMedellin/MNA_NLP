{
  "nbformat": 4,
  "nbformat_minor": 0,
  "metadata": {
    "colab": {
      "provenance": []
    },
    "kernelspec": {
      "name": "python3",
      "display_name": "Python 3"
    },
    "language_info": {
      "name": "python"
    }
  },
  "cells": [
    {
      "cell_type": "code",
      "source": [
        "!pip install openai"
      ],
      "metadata": {
        "id": "4O2ZkTbFwiAj"
      },
      "execution_count": null,
      "outputs": []
    },
    {
      "cell_type": "code",
      "source": [
        "import os\n",
        "from google.colab import userdata\n",
        "from openai import OpenAI\n",
        "import openai"
      ],
      "metadata": {
        "id": "yzP4MmDcwjQZ"
      },
      "execution_count": 1,
      "outputs": []
    },
    {
      "cell_type": "code",
      "source": [
        "api_key = userdata.get(\"miOpenAI_API_key\")\n",
        "\n",
        "if not api_key:\n",
        "  raise ValueError(\"API key no encontrada en los secretos\")"
      ],
      "metadata": {
        "id": "r6INiqsrwwM6"
      },
      "execution_count": 4,
      "outputs": []
    },
    {
      "cell_type": "code",
      "source": [
        "modelo = \"gpt-4o-mini\"\n",
        "\n",
        "client = OpenAI(api_key = api_key)\n",
        "\n",
        "response = client.responses.create(\n",
        "    model=modelo,\n",
        "    input=\"Relata una historia de fantasmas en Transilvania.\"\n",
        ")\n",
        "\n",
        "print(response.output_text)"
      ],
      "metadata": {
        "colab": {
          "base_uri": "https://localhost:8080/"
        },
        "id": "iMEaiN-HyO6p",
        "outputId": "b260cfbe-7cb5-4ac8-f39c-d1ffed605a9c"
      },
      "execution_count": 5,
      "outputs": [
        {
          "output_type": "stream",
          "name": "stdout",
          "text": [
            "En las colinas brumosas de Transilvania, se alzaba un antiguo castillo conocido como el Castillo de Valdorian. Sumido en leyendas y oculto entre la neblina, se decía que estaba habitado por los espíritus de aquellos que habían encontrado su fin en sus tenebrosos pasillos.\n",
            "\n",
            "La historia comenzaba en una noche oscura y tormentosa, cuando un joven historiador llamado Adrian llegó al castillo con la intención de desentrañar sus secretos. La atmósfera era pesada; los truenos resonaban, y el viento aullaba como si las almas perdidas pidieran ayuda.\n",
            "\n",
            "Adrian se adentró en el castillo con su linterna, guiado por el eco de sus pasos. Mientras exploraba sus salones desmoronados, encontró un retrato polvoriento de una mujer de ojos tristes. Se decía que era Elena, una joven noble cuyo amor había sido arrebatado por un oscuro secreto. Desde entonces, su espíritu vagaba buscando venganza.\n",
            "\n",
            "Esa noche, a medida que la tormenta arremetía contra las paredes del castillo, Adrian sintió una presencia. Al volverse, vio a Elena, flotando entre las sombras. Su rostro mostraba sufrimiento, pero también una profunda tristeza. \"Ayúdame\", susurró, su voz un eco suave del viento.\n",
            "\n",
            "Intrigado y temeroso, Adrian decidió investigar más sobre la trágica historia de Elena. Con cada descubrimiento, los ecos del pasado se volvían más intensos. Aprendió que su amor, un caballero llamado Mihai, había sido acusado falsamente de traición y asesinado por su propio hermano.\n",
            "\n",
            "Con el corazón lleno de compasión, Adrian regresó al castillo la noche siguiente para confrontar el pasado. Conchado en un ritual de redención, recitó las palabras que había encontrado en un antiguo manuscrito: un conjuro que podría liberar al alma atrapada de Elena.\n",
            "\n",
            "La tormenta sobre el castillo alcanzó su clímax. Relámpagos iluminaron el cielo, y la figura de Elena apareció una vez más, esta vez junto a Mihai, quien también había sido arrastrado por el pesar de su muerte injusta. Juntos, se acercaron a Adrian, sus ojos llenos de gratitud.\n",
            "\n",
            "Con un gesto final, Adrian pronunció las palabras del conjuro. Una luz brillante rodeó a los amantes, y, en un instante, desaparecieron, dejando solo una suave brisa en su lugar. La misma noche, el castillo se iluminó de una forma nunca antes vista, como si la esperanza hubiera retornado a aquellos muros olvidados.\n",
            "\n",
            "Adrian, aunque triste por la partida de los espíritus, se sintió aliviado. Había cumplido su misión, y el eco de sus risas resonaría por siempre en los corazones de aquellos que visitaran el Castillo de Valdorian. A partir de entonces, el castillo fue conocido, no por los horrores de su pasado, sino por la promesa de amor eterno que había finalmente encontrado la paz.\n"
          ]
        }
      ]
    }
  ]
}