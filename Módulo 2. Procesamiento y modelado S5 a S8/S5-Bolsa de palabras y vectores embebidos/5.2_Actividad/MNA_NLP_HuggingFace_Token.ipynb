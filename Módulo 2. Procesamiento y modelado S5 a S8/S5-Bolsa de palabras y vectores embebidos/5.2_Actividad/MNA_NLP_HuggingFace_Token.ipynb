{
  "nbformat": 4,
  "nbformat_minor": 0,
  "metadata": {
    "colab": {
      "provenance": [],
      "gpuType": "T4"
    },
    "kernelspec": {
      "name": "python3",
      "display_name": "Python 3"
    },
    "language_info": {
      "name": "python"
    },
    "accelerator": "GPU"
  },
  "cells": [
    {
      "cell_type": "code",
      "execution_count": null,
      "metadata": {
        "id": "nnP_QSCxcqpj"
      },
      "outputs": [],
      "source": [
        "!pip install transformers"
      ]
    },
    {
      "cell_type": "code",
      "source": [
        "import torch\n",
        "from google.colab import userdata\n",
        "from huggingface_hub import login\n",
        "from transformers import pipeline"
      ],
      "metadata": {
        "id": "A4b1S-gAdGMO"
      },
      "execution_count": null,
      "outputs": []
    },
    {
      "cell_type": "code",
      "source": [
        "login(userdata.get('miHuggingFace'))"
      ],
      "metadata": {
        "id": "ScblwmPretLD"
      },
      "execution_count": null,
      "outputs": []
    },
    {
      "cell_type": "code",
      "source": [
        "modelo = \"meta-llama/Llama-3.2-1B-Instruct\""
      ],
      "metadata": {
        "id": "e41UcvgYe5S4"
      },
      "execution_count": null,
      "outputs": []
    },
    {
      "cell_type": "code",
      "source": [
        "pipe = pipeline(\"text-generation\",\n",
        "                model=modelo,\n",
        "                max_new_tokens = 512,\n",
        "                temperature = 0.5,\n",
        "                )"
      ],
      "metadata": {
        "id": "XReRr9PtfBTL"
      },
      "execution_count": null,
      "outputs": []
    },
    {
      "cell_type": "code",
      "source": [
        "messages = [{\"role\": \"user\", \"content\": \"¿Qué es la inteligencia artificial?\"}]\n",
        "outputs = pipe(messages)\n",
        "response = outputs[0][\"generated_text\"]\n",
        "print(response)"
      ],
      "metadata": {
        "id": "GRMvmY3dw4io"
      },
      "execution_count": null,
      "outputs": []
    },
    {
      "cell_type": "code",
      "source": [
        "response"
      ],
      "metadata": {
        "id": "aNntg-Gy2bgS"
      },
      "execution_count": null,
      "outputs": []
    },
    {
      "cell_type": "code",
      "source": [
        "response[1]['content']"
      ],
      "metadata": {
        "id": "u86fgRC62kbF"
      },
      "execution_count": null,
      "outputs": []
    },
    {
      "cell_type": "code",
      "source": [
        "# Para ponerlo en formato Markdown:\n",
        "from IPython.display import Markdown\n",
        "\n",
        "Markdown(response[1]['content'])"
      ],
      "metadata": {
        "id": "dMsaj1cY351Y"
      },
      "execution_count": null,
      "outputs": []
    },
    {
      "cell_type": "code",
      "source": [],
      "metadata": {
        "id": "YRzYnVgB35AX"
      },
      "execution_count": null,
      "outputs": []
    }
  ]
}