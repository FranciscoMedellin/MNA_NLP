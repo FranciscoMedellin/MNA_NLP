{
  "nbformat": 4,
  "nbformat_minor": 0,
  "metadata": {
    "colab": {
      "provenance": [],
      "collapsed_sections": [
        "1BtP-Sk0DT-M",
        "6uYgtCvvJSmq",
        "NM0D83j8EWiN",
        "6PKaB_Ge0Shc",
        "i2ywrmsMP_EF",
        "Blrrs1sWwkSx",
        "Kx-dZSFJz9cK"
      ],
      "include_colab_link": true
    },
    "kernelspec": {
      "name": "python3",
      "display_name": "Python 3"
    },
    "language_info": {
      "name": "python"
    }
  },
  "cells": [
    {
      "cell_type": "markdown",
      "metadata": {
        "id": "view-in-github",
        "colab_type": "text"
      },
      "source": [
        "<a href=\"https://colab.research.google.com/github/FranciscoMedellin/MNA_NLP/blob/main/Semana7_8/Diego_MNA_NLP_actividad_semanas_7_y_8_LDA_y_LLM.ipynb\" target=\"_parent\"><img src=\"https://colab.research.google.com/assets/colab-badge.svg\" alt=\"Open In Colab\"/></a>"
      ]
    },
    {
      "cell_type": "markdown",
      "source": [
        "# **Procesamiento de Lenguaje Natural**\n",
        "\n",
        "## Maestría en Inteligencia Artificial Aplicada\n",
        "#### Tecnológico de Monterrey\n",
        "#### Prof Luis Eduardo Falcón Morales\n",
        "\n",
        "### **Adtividad en Equipos Semanas 7 y 8 : LDA y LMM audio-a-texto**"
      ],
      "metadata": {
        "id": "-hVND8xY2OKY"
      }
    },
    {
      "cell_type": "markdown",
      "source": [
        "* **Nombres y matrículas:**\n",
        "\n",
        "  *   Elemento de lista\n",
        "  *   Elemento de lista\n",
        "  *   Elemento de lista\n",
        "\n",
        "* **Número de Equipo:**\n"
      ],
      "metadata": {
        "id": "aimHVFOv23lm"
      }
    },
    {
      "cell_type": "markdown",
      "source": [
        "* ##### **En cada ejercicio pueden importar los paquetes o librerías que requieran.**\n",
        "\n",
        "* ##### **En cada ejercicio pueden incluir las celdas y líneas de código que deseen.**"
      ],
      "metadata": {
        "id": "7jimvsiVgjMg"
      }
    },
    {
      "cell_type": "code",
      "source": [
        "import requests\n",
        "import os\n",
        "from urllib.parse import urlparse\n",
        "import json\n",
        "\n",
        "\n",
        "from transformers import Wav2Vec2Processor, Wav2Vec2ForCTC\n",
        "import librosa\n",
        "import torch\n",
        "\n",
        "from google.colab import userdata\n",
        "from huggingface_hub import login\n",
        "login(userdata.get('HF_TOKEN'))\n",
        "\n",
        "from google.colab import userdata\n",
        "from openai import OpenAI\n",
        "import openai\n",
        "\n",
        "api_key = userdata.get(\"OpenAI_dbernal\")\n",
        "\n",
        "if not api_key:\n",
        "  raise ValueError(\"API key no encontrada en los secretos\")\n",
        "\n",
        "# Crear cliente con tu clave de API\n",
        "client = OpenAI(api_key=api_key)\n",
        "\n",
        "import re\n",
        "import nltk\n",
        "import string\n",
        "from sklearn.feature_extraction.text import CountVectorizer\n",
        "from sklearn.decomposition import LatentDirichletAllocation\n",
        "\n",
        "nltk.download('stopwords')\n",
        "from nltk.corpus import stopwords\n",
        "\n",
        "# 📌 Stopwords en español\n",
        "stop_words = set(stopwords.words('spanish'))"
      ],
      "metadata": {
        "id": "P9npWNCeyrT_",
        "colab": {
          "base_uri": "https://localhost:8080/"
        },
        "outputId": "4e7fc36c-428c-4624-cea9-1cf6aeb3ffb3"
      },
      "execution_count": null,
      "outputs": [
        {
          "output_type": "stream",
          "name": "stderr",
          "text": [
            "[nltk_data] Downloading package stopwords to /root/nltk_data...\n",
            "[nltk_data]   Unzipping corpora/stopwords.zip.\n"
          ]
        }
      ]
    },
    {
      "cell_type": "code",
      "source": [
        "from google.colab import drive\n",
        "drive.mount('/content/drive')"
      ],
      "metadata": {
        "colab": {
          "base_uri": "https://localhost:8080/"
        },
        "id": "w45LIP50oBFU",
        "outputId": "3fd1f3bf-97db-45ae-9e9d-9643a13388b1"
      },
      "execution_count": null,
      "outputs": [
        {
          "output_type": "stream",
          "name": "stdout",
          "text": [
            "Mounted at /content/drive\n"
          ]
        }
      ]
    },
    {
      "cell_type": "code",
      "source": [
        "# Verificamos si hay GPU disponible:\n",
        "device = \"cuda\" if torch.cuda.is_available() else \"cpu\"\n",
        "print(f\"Usando dispositivo: {device}\")\n"
      ],
      "metadata": {
        "id": "V2nXljA_J740",
        "colab": {
          "base_uri": "https://localhost:8080/"
        },
        "outputId": "dcae5b96-80a6-4012-e3ae-281e64b2c0ec"
      },
      "execution_count": null,
      "outputs": [
        {
          "output_type": "stream",
          "name": "stdout",
          "text": [
            "Usando dispositivo: cpu\n"
          ]
        }
      ]
    },
    {
      "cell_type": "markdown",
      "source": [
        "# **Ejercicio 1:**"
      ],
      "metadata": {
        "id": "1BtP-Sk0DT-M"
      }
    },
    {
      "cell_type": "markdown",
      "source": [
        "* #### **Liga de los audios de las fábulas de Esopo:** https://www.gutenberg.org/ebooks/21144\n",
        "\n",
        "* #### **Descargar los 10 archivos de audio solicitados: 1, 4, 5, 6, 14, 22, 24, 25, 26, 27.**\n",
        "\n"
      ],
      "metadata": {
        "id": "Oh78pKeMghfe"
      }
    },
    {
      "cell_type": "code",
      "source": [
        "# Incluyan a continuación todas las celdas (de código o texto) que deseen...\n",
        "\n",
        "\n",
        "def descargar_mp3(url, carpeta_destino=\"archivos\"):\n",
        "\n",
        "\n",
        "  try:\n",
        "    # Crear carpeta si no existe\n",
        "    if not os.path.exists(carpeta_destino):\n",
        "        os.makedirs(carpeta_destino)\n",
        "\n",
        "    # Obtener nombre del archivo de la URL\n",
        "    parsed_url = urlparse(url)\n",
        "    nombre_archivo = os.path.basename(parsed_url.path)\n",
        "\n",
        "    # Si no tiene extensión, agregar .mp3\n",
        "    if not nombre_archivo.endswith('.mp3'):\n",
        "        nombre_archivo += '.mp3'\n",
        "\n",
        "    ruta_completa = os.path.join(carpeta_destino, nombre_archivo)\n",
        "\n",
        "    # Descargar el archivo\n",
        "    print(f\"Descargando: {nombre_archivo}\")\n",
        "    response = requests.get(url, stream=True)\n",
        "    response.raise_for_status()\n",
        "\n",
        "    with open(ruta_completa, 'wb') as f:\n",
        "        for chunk in response.iter_content(chunk_size=8192):\n",
        "            f.write(chunk)\n",
        "\n",
        "    print(f\"✓ Descargado: {ruta_completa}\")\n",
        "    return True\n",
        "\n",
        "  except Exception as e:\n",
        "    print(f\"Error descargando {url}: {str(e)}\")\n",
        "    return False\n",
        "\n",
        "# Ejemplo de uso\n",
        "audio_solicitados = [1, 4, 5, 6, 14, 22, 24, 25, 26, 27]\n",
        "urls_mp3 = [f\"https://www.gutenberg.org/files/21144/mp3/21144-{x:02d}.mp3\" for x in audio_solicitados]\n",
        "\n",
        "for url in urls_mp3:\n",
        "    descargar_mp3(url)"
      ],
      "metadata": {
        "id": "Bfs5Zxc9j7Uf",
        "colab": {
          "base_uri": "https://localhost:8080/"
        },
        "outputId": "b7df49f6-ba86-4384-d1ed-3ba940a8260d"
      },
      "execution_count": null,
      "outputs": [
        {
          "output_type": "stream",
          "name": "stdout",
          "text": [
            "Descargando: 21144-01.mp3\n",
            "✓ Descargado: archivos/21144-01.mp3\n",
            "Descargando: 21144-04.mp3\n",
            "✓ Descargado: archivos/21144-04.mp3\n",
            "Descargando: 21144-05.mp3\n",
            "✓ Descargado: archivos/21144-05.mp3\n",
            "Descargando: 21144-06.mp3\n",
            "✓ Descargado: archivos/21144-06.mp3\n",
            "Descargando: 21144-14.mp3\n",
            "✓ Descargado: archivos/21144-14.mp3\n",
            "Descargando: 21144-22.mp3\n",
            "✓ Descargado: archivos/21144-22.mp3\n",
            "Descargando: 21144-24.mp3\n",
            "✓ Descargado: archivos/21144-24.mp3\n",
            "Descargando: 21144-25.mp3\n",
            "✓ Descargado: archivos/21144-25.mp3\n",
            "Descargando: 21144-26.mp3\n",
            "✓ Descargado: archivos/21144-26.mp3\n",
            "Descargando: 21144-27.mp3\n",
            "✓ Descargado: archivos/21144-27.mp3\n"
          ]
        }
      ]
    },
    {
      "cell_type": "markdown",
      "source": [
        "# **Ejercicio 2a:**"
      ],
      "metadata": {
        "id": "6uYgtCvvJSmq"
      }
    },
    {
      "cell_type": "markdown",
      "source": [
        "* #### **Comenten el por qué del modelo seleccionado para extracción del texto de los audios.**\n",
        "\n",
        "* #### **Extraer el contenido de los audios en texto.**\n",
        "\n",
        "* #### **Sugerencia:** pueden extraerlo en un formato de diccionario, clave:valor $→$ {audio01:fabula01, ...}"
      ],
      "metadata": {
        "id": "rAQjVP2HkoZY"
      }
    },
    {
      "cell_type": "markdown",
      "source": [
        "Para este punto comparamos los modelos\"facebook/wav2vec2-large-xlsr-53-spanish\"\n",
        " “jonatasgrosman/wav2vec2-large-xlsr-53-spanish\", “facebook/wav2vec2-base-10k-voxpopuli-ft-es\" y “openai/whisper-1”. Estos fueron los resultados obtenidos:\n",
        "\n",
        "* Resultado modelo ‘Facebook/wav2vec2-large-xlsr-53-spanish’: fábulaesopo rcppaulinopaul el lobo y el cordero en el templo dándose cuenta de que era perseguido por un lobo un pequeño corderito decidió refugiarse en un templo cercano lo llamó lobo y le dijo que si el sacrificador lo encontraba allí adentro lo enmolaría a su dios mejor así replicó el cordero prefiero ser víctima para un dios a tener que perecer en tus colmillos si sin remedio vamos a ser sacrificados más nos vale que sea con el mayor honor fábula\n",
        "\n",
        "* Resultado modelo ‘jonatasgrosman/wav2vec2-large-xlsr-53-spanish’: las fábulas de sopo grabado para libribox o hereg por paulino w w w  paulinoinfofábula número sesenta y uno el lobo y el cordero en el templodándo se cuenta de que era perseguido por un lobo un pequeño corderito decidió refugiarse en un templo cercano lo llamó lobo y le dijo que si el sacrificador lo encontraba allí adentro lo inmolaría a su dios mejor así replicó el cordero prefiero ser víctima para un dios a tener que perecer en tucolmillossi sin remedio vamos a ser sacrificados más nos vale que sea con el mayor honor fin de la fábulaesta es una grabación del dominio publico\n",
        "\n",
        "* Resultado modelo ‘facebook/wav2vec2-base-10k-voxpopuli-ft-es': las faulas de sopo gravado para el libri vox punto o erg por paulino doble vé doble vé doble vé punto paulino puto info faula número sesenta y uno el lobo y el cordero en el templo tando se cuenta de que era perseguido por un lobo un pequeño cordedito desidió refugiarse en un templio cercano lo lamó lobo y le dijo que si el sacrificador lo encontraba allía dentro lo enmolaría a su dios mejor así eel cordero crefiero a ser víctima para un dios a tener que pereser en tus colmillos si sin remedio vamos a ser sacrificados más nos vale que sea con el mayor honor fin de la fabula esta es una gravación del dominio público\n",
        "\n",
        "* Resultado modelo ‘openai/whisper-1’: Las fábulas de Sopo Grabado para LibriVox.org por Paulino www.paulino.info Fábula número 61 El lobo y el cordero en el templo Dándose cuenta de que era perseguido por un lobo, un pequeño corderito decidió refugiarse en un templo cercano. Lo llamó lobo y le dijo que si el sacrificador lo encontraba allí adentro, lo inmolaría a su dios. Mejor así, replicó el cordero, prefiero ser víctima para un dios a tener que perecer en tus colmillos. Si sin remedio vamos a ser sacrificados, más nos vale que sea con el mayor honor. Fin de la fábula Esta es una grabación del dominio público.\n",
        "\n",
        "Al comparar las transcripciones de los cuatro modelos, el modelo ‘openai/whisper-1’ destaca claramente como el mejor. Su transcripción es la única que presenta una ortografía correcta, puntuación adecuada y segmentación de frases coherente, lo que facilita la comprensión lectora. Además, reproduce fielmente tanto la información principal del texto como los detalles contextuales, como los créditos y la mención al dominio público, sin errores notables en los nombres propios ni en los términos clave del relato. Esto contrasta con los otros modelos, que presentan errores de segmentación (“fábulaesopo rcppaulinopaul”), omisiones, palabras mal escritas (“gravado”, “templio”, “crefiero”) y confusiones en los nombres de dominio y enlaces.\n",
        "\n",
        "El segundo modelo (‘jonatasgrosman/wav2vec2-large-xlsr-53-spanish’) también logra una transcripción bastante precisa en cuanto al contenido, pero carece de una puntuación adecuada y presenta algunas palabras pegadas o mal segmentadas, lo que dificulta la lectura. El tercer modelo (‘facebook/wav2vec2-base-10k-voxpopuli-ft-es’) muestra numerosos errores ortográficos y de reconocimiento de palabras, afectando la fidelidad del texto. El primer modelo (‘Facebook/wav2vec2-large-xlsr-53-spanish’) omite partes importantes y presenta errores graves de segmentación. En conclusión, ‘openai/whisper-1’ es el mejor modelo porque logra la mayor precisión, claridad y legibilidad en la transcripción, elementos fundamentales para una aplicación práctica y profesional de reconocimiento de voz."
      ],
      "metadata": {
        "id": "-k2Uppr46Dom"
      }
    },
    {
      "cell_type": "code",
      "source": [
        "transcrip = {}\n",
        "\n",
        "# Get all files in the folder\n",
        "folder_path = '/content/archivos'\n",
        "files_in_folder = os.listdir(folder_path)\n",
        "\n",
        "# Iterate through each file\n",
        "for file_name in files_in_folder:\n",
        "    file_path = os.path.join(folder_path, file_name)\n",
        "    # You can now do something with each file, for example, print its name\n",
        "    print(f\"Processing file: {file_path}\")\n",
        "\n",
        "    # Example: Check if it's a file (and not a subdirectory)\n",
        "    if os.path.isfile(file_path):\n",
        "        # Add your code here to process each file\n",
        "        print(f\"  This is a file.\")\n",
        "\n",
        "        # Example: Load and process audio if it's an mp3 file\n",
        "        if file_path.endswith(\".mp3\"):\n",
        "\n",
        "\n",
        "            # Ruta del archivo de audio en audio_path.\n",
        "            # Abrimos el archivo en binario y extraemos el texto con whisper-1:\n",
        "            with open(file_path, \"rb\") as audio_file:\n",
        "                transcript = client.audio.transcriptions.create(model=\"whisper-1\",\n",
        "                                                                file=audio_file,\n",
        "                                                                language=\"es\"\n",
        "                                                                )\n",
        "                transcrip[file_name] = transcript.text\n",
        "\n",
        "print(\"\\nFinished processing all files in the folder.\")\n",
        "\n",
        "new_transcrip = {}\n",
        "for key, value in transcrip.items():\n",
        "  # Extract the last two digits before .mp3\n",
        "  parts = key.split('-')\n",
        "  if len(parts) > 1:\n",
        "    number_part = parts[-1].split('.')[0]\n",
        "    if number_part.isdigit() and len(number_part) >= 2:\n",
        "      new_key = f\"audio_{number_part[-2:]}\"\n",
        "      new_transcrip[new_key] = value\n",
        "  else:\n",
        "    # Handle cases where the key might not have the expected format\n",
        "    new_transcrip[key] = value\n",
        "\n",
        "transcrip = new_transcrip\n"
      ],
      "metadata": {
        "colab": {
          "base_uri": "https://localhost:8080/"
        },
        "id": "WiBKc13191Eh",
        "outputId": "d7047add-ddcb-496e-8ffe-22b736eb6da9"
      },
      "execution_count": null,
      "outputs": [
        {
          "output_type": "stream",
          "name": "stdout",
          "text": [
            "Processing file: /content/archivos/21144-27.mp3\n",
            "  This is a file.\n",
            "Processing file: /content/archivos/21144-05.mp3\n",
            "  This is a file.\n",
            "Processing file: /content/archivos/21144-24.mp3\n",
            "  This is a file.\n",
            "Processing file: /content/archivos/21144-06.mp3\n",
            "  This is a file.\n",
            "Processing file: /content/archivos/21144-04.mp3\n",
            "  This is a file.\n",
            "Processing file: /content/archivos/21144-22.mp3\n",
            "  This is a file.\n",
            "Processing file: /content/archivos/21144-14.mp3\n",
            "  This is a file.\n",
            "Processing file: /content/archivos/21144-26.mp3\n",
            "  This is a file.\n",
            "Processing file: /content/archivos/21144-25.mp3\n",
            "  This is a file.\n",
            "Processing file: /content/archivos/21144-01.mp3\n",
            "  This is a file.\n",
            "\n",
            "Finished processing all files in the folder.\n"
          ]
        },
        {
          "output_type": "execute_result",
          "data": {
            "text/plain": [
              "{'audio_27': 'Las fábulas de Esopo. Grabado para LibriVox.org por Elo Chito. Fábula número 87. El perro que perseguía al león. Un perro de casa se encontró con un león y partió en su persecución. Pero el león se volvió rugiendo y el perro, todo temorizado, retrocedió rápidamente por el mismo camino. Le vio una zorra y le dijo, ¡Perro infeliz! Primero perseguías al león y ya ni siquiera soportas sus surgidos. Cuando entres a una empresa, mantente siempre listo a afrontar imprevistos que no te imaginabas. Fin de la fábula. Esta grabación es del dominio público.',\n",
              " 'audio_05': 'Las fábulas de Sopo. Grabado para LibriVox.org por Karen Savage. Fábula número 65. El lobo y el caballo. Pasaba un lobo por un sembrado de cebada, pero como no era comida de su gusto, la dejó y siguió su camino. Encontró al rato a un caballo y le llevó al campo comentándole la gran cantidad de cebada que había hallado, pero que en vez de comérsela a él, mejor se la había dejado porque le agradaba más oír el ruido de sus dientes al masticarla. Pero el caballo le repuso. Amigo, si los lobos comieran cebada, no hubieras preferido complacer a tus oídos sino a tu estómago. A todo malvado, aunque parezca actuar como bueno, no debe de creérsele. Fin de fábula. Esta grabación es de dominio público. Subtítulos realizados por la comunidad de Amara.org',\n",
              " 'audio_24': 'Las fábulas de Sopo. Grabado para LibriVox.org por Karen Savich. Fábula número 84. El perro y el reflejo en el río. Badeaba un perro un río, llevando en su hocico un sabroso pedazo de carne. Vio su propio reflejo en el agua del río y creyó que aquel reflejo era, en realidad, otro perro que llevaba un trozo de carne mayor que el suyo. Y deseando adueñarse del pedazo ajeno, soltó el suyo para arrebatar el trozo a su supuesto compadre. Pero el resultado fue que se quedó sin el propio y sin el ajeno. Este porque no existía, solo era un reflejo, y el otro, el verdadero, porque se lo llevó a la corriente. Nunca codices el bien ajeno, pues puedes perder lo que ya has adquirido con tu esfuerzo. Fin de fábula. Esta grabación es de dominio público.',\n",
              " 'audio_06': 'Las fábulas de Esopo, grabado para LibriVox.org por Alejandro González Calderón. Fábula número 66. El Lobo y el Asno. Un lobo fue elegido rey entre sus congéneres y decretó una ley ordenando que lo que cada uno capturase en la casa, lo pusiera en común y lo repartiese por partes iguales entre todos. De esta manera ya no tendrían los lobos que devorarse unos a otros en épocas de hambre. Pero en eso le escuchó un asno, que estaba por ahí cerca, y moviendo sus orejas le dijo ¡Magnífica idea ha brotado de tu corazón! Pero, ¿por qué has escondido todo tu botín en tu cueva? Llévalo a la comunidad y repártelo también como lo has decretado. El lobo, descubierto y confundido, derogó su ley. Si alguna vez llegas a tener poder de legislar, sé el primero en cumplir tus propias leyes. Fin de la fábula. Esta grabación es de dominio público.',\n",
              " 'audio_04': 'Las fábulas de Esopo, grabado para LibriVox.org por Roberto Antonio Muñoz, fábula número 64, El Lobo y la Cruz. A un lobo que comía un hueso, se le atragantó el hueso en la garganta y corría por todas partes en busca de auxilio. Encontró en su correra a una grulla y le pidió que le salvara de aquella situación y que enseguida le pagaría por ello. Aceptó la grulla e introdujo su cabeza en la boca del lobo, sacando de la garganta el hueso atravesado. Pidió entonces la cancelación de la paga convenida. Oye, amiga, dijo el lobo, ¿no crees que es suficiente paga con haber sacado tu cabeza sana y salva de mi boca? Nunca hagas favores a malvados, traficantes o corruptos, pues mucha paga tendrías si te dejan sano y salvo. Fin de fábula. Esta grabación es de dominio público.',\n",
              " 'audio_22': 'Las fábulas de Esopo. Grabado para LibriVox.org por El Ochito. Fábula número 82. El perro y la almeja. Un perro de esos, acostumbrados a comer huevos, al ver una almeja, no lo pensó dos veces, y creyendo que se trataba de un huevo, se la tragó inmediatamente. Desgarradas luego sus entrañas, se sintió muy mal, y se dijo, bien merecido lo tengo, por creer que todo lo que veo redondo son huevos. Nunca tomes un asunto sin antes reflexionar, para no entrar luego en extrañas dificultades. Fin de la fábula. Esta grabación es del dominio público. Subtítulos realizados por la comunidad de Amara.org',\n",
              " 'audio_14': 'Las fábulas de Sopo. Grabado para LibriVox.org por El Ochito. Fábula número 74. El Lobo y el Cabrito Encerrado. Protegido por la seguridad del corral de una casa, un cabrito vio pasar a un lobo y comenzó a insultarle burlándose ampliamente de él. El lobo serenamente le replicó. ¡Infeliz! Sé que no eres tú quien me está insultando, sino el sitio en que te encuentras. Muy a menudo no es el valor, sino la ocasión y el lugar quienes proveen el enfrentamiento arrogante ante los poderosos. Fin de la fábula. Esta grabación es del dominio público. Subtítulos realizados por la comunidad de Amara.org',\n",
              " 'audio_26': 'Las fábulas de Esopo. Grabado para LibriVox.org por El Ochito. Fábula número 86. El perro con campanilla. Había un perro que acostumbraba a morder sin razón. Le puso su amo una campanilla para advertirle a la gente de su presencia cercana. Y el can, sonando la campanilla, se fue a la plaza pública a presumir. Mas una sabia perra, ya avanzada de años, le dijo. ¿De qué presumes tanto, amigo? Sé que no llevas esa campanilla por tus grandes virtudes, sino para anunciar tu maldad oculta. Los halagos que se hacen a sí mismo, los fanfarrones, sólo delatan sus mayores defectos. Fin de la fábula. Esta grabación es del dominio público. Subtítulos realizados por la comunidad de Amara.org',\n",
              " 'audio_25': 'Las fábulas de Sopo, grabado para Librevox.org Fábula número 85, El perro y el carnicero Penetró un perro en una carnicería, y notando que el carnicero estaba muy ocupado con sus clientes, cogió un trozo de carne y salió corriendo. Se volvió el carnicero, y viéndole huir, y sin poder hacer ni nada, exclamó, —¡Oye, amigo! Ahí donde te encuentre, no dejaré de mirarte. No esperes a que suceda un accidente para pensar en cómo evitarlo. Fin de fábula. Esta grabación es del dominio público. Subtítulos realizados por la comunidad de Amara.org',\n",
              " 'audio_01': 'Las fábulas de Sopo Grabado para LibriVox.org por Paulino www.paulino.info Fábula número 61 El lobo y el cordero en el templo Dándose cuenta de que era perseguido por un lobo, un pequeño corderito decidió refugiarse en un templo cercano. Lo llamó lobo y le dijo que si el sacrificador lo encontraba allí adentro, lo inmolaría a su dios. Mejor así, replicó el cordero, prefiero ser víctima para un dios a tener que perecer en tus colmillos. Si sin remedio vamos a ser sacrificados, más nos vale que sea con el mayor honor. Fin de la fábula Esta es una grabación del dominio público.'}"
            ]
          },
          "metadata": {},
          "execution_count": 40
        }
      ]
    },
    {
      "cell_type": "code",
      "source": [
        "#Celda para guardar los resultados de la transcripción en un archivo JSON:\n",
        "\n",
        "output_filename = \"/content/drive/MyDrive/Colab Notebooks/Monterrey - Actividades y entregables/02 25 - NLP/Semana 7/transcriptions_openAI.json\"\n",
        "\n",
        "with open(output_filename, 'w', encoding='utf-8') as f:\n",
        "    json.dump(transcrip, f, ensure_ascii=False, indent=4)\n",
        "\n",
        "print(f\"Transcription saved to {output_filename}\")"
      ],
      "metadata": {
        "colab": {
          "base_uri": "https://localhost:8080/"
        },
        "id": "7ivIcO9X-odt",
        "outputId": "aa621aff-196b-4c9a-fa02-26e9be1ff42d"
      },
      "execution_count": null,
      "outputs": [
        {
          "output_type": "stream",
          "name": "stdout",
          "text": [
            "Transcription saved to /content/drive/MyDrive/Colab Notebooks/Monterrey - Actividades y entregables/02 25 - NLP/Semana 7/transcriptions_openAI.json\n"
          ]
        }
      ]
    },
    {
      "cell_type": "code",
      "source": [
        "#Celda para cargar los resultados de la transcripción en un diccionario:\n",
        "\n",
        "output_filename = \"/content/drive/MyDrive/Colab Notebooks/Monterrey - Actividades y entregables/02 25 - NLP/Semana 7/transcriptions_openAI.json\"\n",
        "\n",
        "with open(output_filename, 'r', encoding='utf-8') as f:\n",
        "    transcrip = json.load(f)\n",
        "\n",
        "transcrip"
      ],
      "metadata": {
        "colab": {
          "base_uri": "https://localhost:8080/"
        },
        "id": "S_IwfBAUof3W",
        "outputId": "7c02a715-51cb-4940-affa-6ee8174ceac5"
      },
      "execution_count": null,
      "outputs": [
        {
          "output_type": "execute_result",
          "data": {
            "text/plain": [
              "{'audio_27': 'Las fábulas de Esopo. Grabado para LibriVox.org por Elo Chito. Fábula número 87. El perro que perseguía al león. Un perro de casa se encontró con un león y partió en su persecución. Pero el león se volvió rugiendo y el perro, todo temorizado, retrocedió rápidamente por el mismo camino. Le vio una zorra y le dijo, ¡Perro infeliz! Primero perseguías al león y ya ni siquiera soportas sus surgidos. Cuando entres a una empresa, mantente siempre listo a afrontar imprevistos que no te imaginabas. Fin de la fábula. Esta grabación es del dominio público.',\n",
              " 'audio_05': 'Las fábulas de Sopo. Grabado para LibriVox.org por Karen Savage. Fábula número 65. El lobo y el caballo. Pasaba un lobo por un sembrado de cebada, pero como no era comida de su gusto, la dejó y siguió su camino. Encontró al rato a un caballo y le llevó al campo comentándole la gran cantidad de cebada que había hallado, pero que en vez de comérsela a él, mejor se la había dejado porque le agradaba más oír el ruido de sus dientes al masticarla. Pero el caballo le repuso. Amigo, si los lobos comieran cebada, no hubieras preferido complacer a tus oídos sino a tu estómago. A todo malvado, aunque parezca actuar como bueno, no debe de creérsele. Fin de fábula. Esta grabación es de dominio público. Subtítulos realizados por la comunidad de Amara.org',\n",
              " 'audio_24': 'Las fábulas de Sopo. Grabado para LibriVox.org por Karen Savich. Fábula número 84. El perro y el reflejo en el río. Badeaba un perro un río, llevando en su hocico un sabroso pedazo de carne. Vio su propio reflejo en el agua del río y creyó que aquel reflejo era, en realidad, otro perro que llevaba un trozo de carne mayor que el suyo. Y deseando adueñarse del pedazo ajeno, soltó el suyo para arrebatar el trozo a su supuesto compadre. Pero el resultado fue que se quedó sin el propio y sin el ajeno. Este porque no existía, solo era un reflejo, y el otro, el verdadero, porque se lo llevó a la corriente. Nunca codices el bien ajeno, pues puedes perder lo que ya has adquirido con tu esfuerzo. Fin de fábula. Esta grabación es de dominio público.',\n",
              " 'audio_06': 'Las fábulas de Esopo, grabado para LibriVox.org por Alejandro González Calderón. Fábula número 66. El Lobo y el Asno. Un lobo fue elegido rey entre sus congéneres y decretó una ley ordenando que lo que cada uno capturase en la casa, lo pusiera en común y lo repartiese por partes iguales entre todos. De esta manera ya no tendrían los lobos que devorarse unos a otros en épocas de hambre. Pero en eso le escuchó un asno, que estaba por ahí cerca, y moviendo sus orejas le dijo ¡Magnífica idea ha brotado de tu corazón! Pero, ¿por qué has escondido todo tu botín en tu cueva? Llévalo a la comunidad y repártelo también como lo has decretado. El lobo, descubierto y confundido, derogó su ley. Si alguna vez llegas a tener poder de legislar, sé el primero en cumplir tus propias leyes. Fin de la fábula. Esta grabación es de dominio público.',\n",
              " 'audio_04': 'Las fábulas de Esopo, grabado para LibriVox.org por Roberto Antonio Muñoz, fábula número 64, El Lobo y la Cruz. A un lobo que comía un hueso, se le atragantó el hueso en la garganta y corría por todas partes en busca de auxilio. Encontró en su correra a una grulla y le pidió que le salvara de aquella situación y que enseguida le pagaría por ello. Aceptó la grulla e introdujo su cabeza en la boca del lobo, sacando de la garganta el hueso atravesado. Pidió entonces la cancelación de la paga convenida. Oye, amiga, dijo el lobo, ¿no crees que es suficiente paga con haber sacado tu cabeza sana y salva de mi boca? Nunca hagas favores a malvados, traficantes o corruptos, pues mucha paga tendrías si te dejan sano y salvo. Fin de fábula. Esta grabación es de dominio público.',\n",
              " 'audio_22': 'Las fábulas de Esopo. Grabado para LibriVox.org por El Ochito. Fábula número 82. El perro y la almeja. Un perro de esos, acostumbrados a comer huevos, al ver una almeja, no lo pensó dos veces, y creyendo que se trataba de un huevo, se la tragó inmediatamente. Desgarradas luego sus entrañas, se sintió muy mal, y se dijo, bien merecido lo tengo, por creer que todo lo que veo redondo son huevos. Nunca tomes un asunto sin antes reflexionar, para no entrar luego en extrañas dificultades. Fin de la fábula. Esta grabación es del dominio público. Subtítulos realizados por la comunidad de Amara.org',\n",
              " 'audio_14': 'Las fábulas de Sopo. Grabado para LibriVox.org por El Ochito. Fábula número 74. El Lobo y el Cabrito Encerrado. Protegido por la seguridad del corral de una casa, un cabrito vio pasar a un lobo y comenzó a insultarle burlándose ampliamente de él. El lobo serenamente le replicó. ¡Infeliz! Sé que no eres tú quien me está insultando, sino el sitio en que te encuentras. Muy a menudo no es el valor, sino la ocasión y el lugar quienes proveen el enfrentamiento arrogante ante los poderosos. Fin de la fábula. Esta grabación es del dominio público. Subtítulos realizados por la comunidad de Amara.org',\n",
              " 'audio_26': 'Las fábulas de Esopo. Grabado para LibriVox.org por El Ochito. Fábula número 86. El perro con campanilla. Había un perro que acostumbraba a morder sin razón. Le puso su amo una campanilla para advertirle a la gente de su presencia cercana. Y el can, sonando la campanilla, se fue a la plaza pública a presumir. Mas una sabia perra, ya avanzada de años, le dijo. ¿De qué presumes tanto, amigo? Sé que no llevas esa campanilla por tus grandes virtudes, sino para anunciar tu maldad oculta. Los halagos que se hacen a sí mismo, los fanfarrones, sólo delatan sus mayores defectos. Fin de la fábula. Esta grabación es del dominio público. Subtítulos realizados por la comunidad de Amara.org',\n",
              " 'audio_25': 'Las fábulas de Sopo, grabado para Librevox.org Fábula número 85, El perro y el carnicero Penetró un perro en una carnicería, y notando que el carnicero estaba muy ocupado con sus clientes, cogió un trozo de carne y salió corriendo. Se volvió el carnicero, y viéndole huir, y sin poder hacer ni nada, exclamó, —¡Oye, amigo! Ahí donde te encuentre, no dejaré de mirarte. No esperes a que suceda un accidente para pensar en cómo evitarlo. Fin de fábula. Esta grabación es del dominio público. Subtítulos realizados por la comunidad de Amara.org',\n",
              " 'audio_01': 'Las fábulas de Sopo Grabado para LibriVox.org por Paulino www.paulino.info Fábula número 61 El lobo y el cordero en el templo Dándose cuenta de que era perseguido por un lobo, un pequeño corderito decidió refugiarse en un templo cercano. Lo llamó lobo y le dijo que si el sacrificador lo encontraba allí adentro, lo inmolaría a su dios. Mejor así, replicó el cordero, prefiero ser víctima para un dios a tener que perecer en tus colmillos. Si sin remedio vamos a ser sacrificados, más nos vale que sea con el mayor honor. Fin de la fábula Esta es una grabación del dominio público.'}"
            ]
          },
          "metadata": {},
          "execution_count": 4
        }
      ]
    },
    {
      "cell_type": "markdown",
      "source": [
        "# **Ejercicio 2b:**"
      ],
      "metadata": {
        "id": "NM0D83j8EWiN"
      }
    },
    {
      "cell_type": "markdown",
      "source": [
        "* #### **Eliminar el inicio y final comunes de los textos extraídos de cada fábula.**\n",
        "\n",
        "* #### **Sugerencia:** Pueden guardar esta información en un archivo tipo JSON, para que al estar probando diferentes opciones en los ejercicios siguientes, puedan recuperar rápidamente la información de cada video/fábula."
      ],
      "metadata": {
        "id": "xiFG5q88EYHU"
      }
    },
    {
      "cell_type": "code",
      "source": [
        "# Incluyan a continuación todas las celdas (de código o texto) que deseen...\n",
        "\n",
        "def limpiar_transcripcion(texto):\n",
        "    # Patrón para eliminar el inicio: todo hasta (e incluyendo) el número de la fábula y el punto inmediatamente posterior.\n",
        "    texto = re.sub(r'^.*?\\d{2}.', '', texto, flags=re.IGNORECASE|re.DOTALL)\n",
        "\n",
        "\n",
        "    # Patrón para eliminar el final: desde \"fin de la fábula\" o similar hasta el final\n",
        "    texto = re.sub(r'Fin de(?: la)? f[aá]bula.*$', '', texto, flags=re.IGNORECASE|re.DOTALL)\n",
        "    # Limpiar espacios extra\n",
        "    texto = texto.strip()\n",
        "\n",
        "    return texto\n",
        "\n",
        "# Aplicar limpieza a cada transcripción\n",
        "transcripciones_limpias = {\n",
        "    k: limpiar_transcripcion(v)\n",
        "    for k, v in transcrip.items()\n",
        "}\n",
        "\n",
        "# Imprimir resultados\n",
        "for clave, texto in transcripciones_limpias.items():\n",
        "    print(f\"{clave}:\\n{texto}\\n{'-'*60}\")"
      ],
      "metadata": {
        "id": "KkbeTmeon_RP",
        "colab": {
          "base_uri": "https://localhost:8080/"
        },
        "outputId": "da3b363b-f7b3-4b52-ae85-7bbb9c51ec73"
      },
      "execution_count": null,
      "outputs": [
        {
          "output_type": "stream",
          "name": "stdout",
          "text": [
            "audio_27:\n",
            "El perro que perseguía al león. Un perro de casa se encontró con un león y partió en su persecución. Pero el león se volvió rugiendo y el perro, todo temorizado, retrocedió rápidamente por el mismo camino. Le vio una zorra y le dijo, ¡Perro infeliz! Primero perseguías al león y ya ni siquiera soportas sus surgidos. Cuando entres a una empresa, mantente siempre listo a afrontar imprevistos que no te imaginabas.\n",
            "------------------------------------------------------------\n",
            "audio_05:\n",
            "El lobo y el caballo. Pasaba un lobo por un sembrado de cebada, pero como no era comida de su gusto, la dejó y siguió su camino. Encontró al rato a un caballo y le llevó al campo comentándole la gran cantidad de cebada que había hallado, pero que en vez de comérsela a él, mejor se la había dejado porque le agradaba más oír el ruido de sus dientes al masticarla. Pero el caballo le repuso. Amigo, si los lobos comieran cebada, no hubieras preferido complacer a tus oídos sino a tu estómago. A todo malvado, aunque parezca actuar como bueno, no debe de creérsele.\n",
            "------------------------------------------------------------\n",
            "audio_24:\n",
            "El perro y el reflejo en el río. Badeaba un perro un río, llevando en su hocico un sabroso pedazo de carne. Vio su propio reflejo en el agua del río y creyó que aquel reflejo era, en realidad, otro perro que llevaba un trozo de carne mayor que el suyo. Y deseando adueñarse del pedazo ajeno, soltó el suyo para arrebatar el trozo a su supuesto compadre. Pero el resultado fue que se quedó sin el propio y sin el ajeno. Este porque no existía, solo era un reflejo, y el otro, el verdadero, porque se lo llevó a la corriente. Nunca codices el bien ajeno, pues puedes perder lo que ya has adquirido con tu esfuerzo.\n",
            "------------------------------------------------------------\n",
            "audio_06:\n",
            "El Lobo y el Asno. Un lobo fue elegido rey entre sus congéneres y decretó una ley ordenando que lo que cada uno capturase en la casa, lo pusiera en común y lo repartiese por partes iguales entre todos. De esta manera ya no tendrían los lobos que devorarse unos a otros en épocas de hambre. Pero en eso le escuchó un asno, que estaba por ahí cerca, y moviendo sus orejas le dijo ¡Magnífica idea ha brotado de tu corazón! Pero, ¿por qué has escondido todo tu botín en tu cueva? Llévalo a la comunidad y repártelo también como lo has decretado. El lobo, descubierto y confundido, derogó su ley. Si alguna vez llegas a tener poder de legislar, sé el primero en cumplir tus propias leyes.\n",
            "------------------------------------------------------------\n",
            "audio_04:\n",
            "El Lobo y la Cruz. A un lobo que comía un hueso, se le atragantó el hueso en la garganta y corría por todas partes en busca de auxilio. Encontró en su correra a una grulla y le pidió que le salvara de aquella situación y que enseguida le pagaría por ello. Aceptó la grulla e introdujo su cabeza en la boca del lobo, sacando de la garganta el hueso atravesado. Pidió entonces la cancelación de la paga convenida. Oye, amiga, dijo el lobo, ¿no crees que es suficiente paga con haber sacado tu cabeza sana y salva de mi boca? Nunca hagas favores a malvados, traficantes o corruptos, pues mucha paga tendrías si te dejan sano y salvo.\n",
            "------------------------------------------------------------\n",
            "audio_22:\n",
            "El perro y la almeja. Un perro de esos, acostumbrados a comer huevos, al ver una almeja, no lo pensó dos veces, y creyendo que se trataba de un huevo, se la tragó inmediatamente. Desgarradas luego sus entrañas, se sintió muy mal, y se dijo, bien merecido lo tengo, por creer que todo lo que veo redondo son huevos. Nunca tomes un asunto sin antes reflexionar, para no entrar luego en extrañas dificultades.\n",
            "------------------------------------------------------------\n",
            "audio_14:\n",
            "El Lobo y el Cabrito Encerrado. Protegido por la seguridad del corral de una casa, un cabrito vio pasar a un lobo y comenzó a insultarle burlándose ampliamente de él. El lobo serenamente le replicó. ¡Infeliz! Sé que no eres tú quien me está insultando, sino el sitio en que te encuentras. Muy a menudo no es el valor, sino la ocasión y el lugar quienes proveen el enfrentamiento arrogante ante los poderosos.\n",
            "------------------------------------------------------------\n",
            "audio_26:\n",
            "El perro con campanilla. Había un perro que acostumbraba a morder sin razón. Le puso su amo una campanilla para advertirle a la gente de su presencia cercana. Y el can, sonando la campanilla, se fue a la plaza pública a presumir. Mas una sabia perra, ya avanzada de años, le dijo. ¿De qué presumes tanto, amigo? Sé que no llevas esa campanilla por tus grandes virtudes, sino para anunciar tu maldad oculta. Los halagos que se hacen a sí mismo, los fanfarrones, sólo delatan sus mayores defectos.\n",
            "------------------------------------------------------------\n",
            "audio_25:\n",
            "El perro y el carnicero Penetró un perro en una carnicería, y notando que el carnicero estaba muy ocupado con sus clientes, cogió un trozo de carne y salió corriendo. Se volvió el carnicero, y viéndole huir, y sin poder hacer ni nada, exclamó, —¡Oye, amigo! Ahí donde te encuentre, no dejaré de mirarte. No esperes a que suceda un accidente para pensar en cómo evitarlo.\n",
            "------------------------------------------------------------\n",
            "audio_01:\n",
            "El lobo y el cordero en el templo Dándose cuenta de que era perseguido por un lobo, un pequeño corderito decidió refugiarse en un templo cercano. Lo llamó lobo y le dijo que si el sacrificador lo encontraba allí adentro, lo inmolaría a su dios. Mejor así, replicó el cordero, prefiero ser víctima para un dios a tener que perecer en tus colmillos. Si sin remedio vamos a ser sacrificados, más nos vale que sea con el mayor honor.\n",
            "------------------------------------------------------------\n"
          ]
        }
      ]
    },
    {
      "cell_type": "markdown",
      "source": [
        "# **Ejercicio 3:**"
      ],
      "metadata": {
        "id": "6PKaB_Ge0Shc"
      }
    },
    {
      "cell_type": "markdown",
      "source": [
        "* #### **Apliquen el proceso de limpieza que consideren adecuado.**\n",
        "\n",
        "* #### **Justifiquen los pasos de limpieza utilizados. Tomen en cuenta que el texto extraído de cada fábula es relativamente pequeño.**\n",
        "\n",
        "* #### **En caso de que decidan no aplicar esta etapa de limpieza, deberán justificarlo.**"
      ],
      "metadata": {
        "id": "zNrqcQFe0VWR"
      }
    },
    {
      "cell_type": "markdown",
      "source": [
        "Antes de aplicar el modelo LDA (Latent Dirichlet Allocation) para la extracción de temas en textos, es fundamental realizar un proceso de limpieza lingüística. Este paso mejora significativamente la calidad del análisis, ya que LDA es sensible al ruido textual. En la función limpiar_texto, primero se convierten todos los caracteres a minúsculas para evitar duplicidad de palabras con distintas capitalizaciones. Luego, se eliminan los números y signos de puntuación, ya que no aportan información semántica relevante al modelo.\n",
        "\n",
        "Posteriormente, se eliminan las palabras vacías (stopwords) del español, que son términos comunes sin carga temática (como “el”, “y”, “de”), y se descartan palabras demasiado cortas, que suelen ser poco informativas. Este preprocesamiento asegura que el modelo LDA se concentre en las palabras más representativas y temáticamente significativas del texto, facilitando la identificación de tópicos coherentes."
      ],
      "metadata": {
        "id": "9WY2dnpNMFj_"
      }
    },
    {
      "cell_type": "code",
      "source": [
        "# Incluyan a continuación todas las celdas (de código o texto) que deseen...\n",
        "\n",
        "def limpiar_texto(texto):\n",
        "    texto = texto.lower()\n",
        "    texto = re.sub(r'\\d+', '', texto)  # eliminar números\n",
        "    texto = re.sub(r'[' + string.punctuation + '¿¡]', '', texto)  # quitar puntuación\n",
        "    palabras = texto.split()\n",
        "    palabras_limpias = [p for p in palabras if p not in stop_words and len(p) > 2]\n",
        "    return ' '.join(palabras_limpias)\n"
      ],
      "metadata": {
        "id": "pqwiCCdpq8D_"
      },
      "execution_count": null,
      "outputs": []
    },
    {
      "cell_type": "markdown",
      "source": [
        "# **Ejercicio 4:**"
      ],
      "metadata": {
        "id": "i2ywrmsMP_EF"
      }
    },
    {
      "cell_type": "markdown",
      "source": [
        "En este fragmento de código se aplica el modelo LDA a cada fábula de forma individual para extraer sus palabras clave más representativas. Primero, se limpia el texto y se vectoriza usando el modelo de bolsa de palabras. Luego, se entrena un modelo LDA configurado para identificar un único tópico por fábula. A partir del tópico identificado, se extraen las 20 palabras más relevantes (según su peso en el modelo), que se consideran las palabras clave del texto. Este proceso se repite para cada fábula, almacenando los resultados en un diccionario para su posterior análisis o visualización."
      ],
      "metadata": {
        "id": "Uv9t1kEaMcuS"
      }
    },
    {
      "cell_type": "code",
      "source": [
        "# Incluyan a continuación todas las celdas (de código o texto) que deseen...\n",
        "\n",
        "n_top_words = 20\n",
        "\n",
        "palabras_clave = {}\n",
        "\n",
        "for nombre, texto_original in transcripciones_limpias.items():\n",
        "    texto = limpiar_texto(texto_original)\n",
        "\n",
        "    # Vectorización (bolsa de palabras)\n",
        "    vectorizer = CountVectorizer()\n",
        "    X = vectorizer.fit_transform([texto])  # Solo una fábula\n",
        "\n",
        "    if X.shape[1] < n_top_words:\n",
        "        print(f\"{nombre}: ⚠️ No hay suficientes palabras para extraer {n_top_words}\")\n",
        "        continue\n",
        "\n",
        "    # LDA con 1 solo tópico\n",
        "    lda = LatentDirichletAllocation(n_components=1, max_iter=10, random_state=42)\n",
        "    lda.fit(X)\n",
        "\n",
        "    # Palabras clave del tema principal\n",
        "    palabras = vectorizer.get_feature_names_out()\n",
        "    tema = lda.components_[0]\n",
        "    indices_top = tema.argsort()[-n_top_words:][::-1]\n",
        "    top_words = [palabras[i] for i in indices_top]\n",
        "    palabras_clave[nombre] = top_words\n",
        "\n",
        "    # Mostrar resultado\n",
        "    print(f\"\\n {nombre}:\")\n",
        "    print(\"Palabras clave:\", ', '.join(top_words))"
      ],
      "metadata": {
        "id": "-xFpnt0A0Ub7",
        "colab": {
          "base_uri": "https://localhost:8080/"
        },
        "outputId": "f36da2fe-7223-4efa-af7a-cd8a7bcca029"
      },
      "execution_count": null,
      "outputs": [
        {
          "output_type": "stream",
          "name": "stdout",
          "text": [
            "\n",
            "🔹 audio_27:\n",
            "Palabras clave: perro, león, zorra, temorizado, surgidos, volvió, vio, siempre, rápidamente, rugiendo, retrocedió, primero, perseguías, soportas, siquiera, persecución, perseguía, mismo, partió, mantente\n",
            "\n",
            "🔹 audio_05:\n",
            "Palabras clave: caballo, cebada, lobo, sembrado, ruido, repuso, rato, preferido, vez, sino, siguió, oír, parezca, pasaba, oídos, malvado, lobos, masticarla, mejor, gusto\n",
            "\n",
            "🔹 audio_24:\n",
            "Palabras clave: reflejo, río, perro, ajeno, propio, trozo, pedazo, carne, sabroso, solo, soltó, supuesto, vio, verdadero, quedó, realidad, pues, perder, nunca, mayor\n",
            "\n",
            "🔹 audio_06:\n",
            "Palabras clave: lobo, asno, ley, tener, rey, repartiese, repártelo, propias, primero, poder, pusiera, partes, orejas, moviendo, ordenando, manera, magnífica, vez, épocas, llévalo\n",
            "\n",
            "🔹 audio_04:\n",
            "Palabras clave: lobo, hueso, paga, garganta, grulla, cabeza, boca, pidió, todas, suficiente, salvo, sacado, sacando, situación, sano, salvara, salva, sana, traficantes, mucha\n",
            "\n",
            "🔹 audio_22:\n",
            "Palabras clave: luego, perro, almeja, huevos, tragó, tomes, ver, veo, reflexionar, sintió, pensó, redondo, nunca, merecido, veces, trataba, inmediatamente, mal, extrañas, huevo\n",
            "\n",
            "🔹 audio_14:\n",
            "Palabras clave: lobo, sino, cabrito, vio, serenamente, seguridad, replicó, proveen, protegido, poderosos, valor, sitio, ocasión, pasar, lugar, menudo, insultando, infeliz, enfrentamiento, insultarle\n",
            "\n",
            "🔹 audio_26:\n",
            "Palabras clave: campanilla, perro, virtudes, sino, sabia, sólo, sonando, pública, razón, presumes, puso, presencia, plaza, perra, presumir, morder, mismo, mayores, mas, maldad\n",
            "\n",
            "🔹 audio_25:\n",
            "Palabras clave: carnicero, perro, trozo, suceda, salió, volvió, poder, pensar, penetró, oye, ocupado, notando, mirarte, viéndole, huir, hacer, evitarlo, exclamó, encuentre, dejaré\n",
            "\n",
            "🔹 audio_01:\n",
            "Palabras clave: lobo, ser, cordero, dios, templo, víctima, vamos, sacrificador, sacrificados, tener, remedio, refugiarse, perseguido, prefiero, perecer, pequeño, replicó, vale, mayor, mejor\n"
          ]
        }
      ]
    },
    {
      "cell_type": "markdown",
      "source": [
        "# **Ejercicio 5a y 5b:**"
      ],
      "metadata": {
        "id": "Blrrs1sWwkSx"
      }
    },
    {
      "cell_type": "markdown",
      "source": [
        "* #### **5a: Mediante el LLM que hayan seleccionado, generar un único enunciado que describa o resuma cada fábula.**\n",
        "\n",
        "* #### **5b: Mediante el LLM que hayan seleccionado, generar tres posibles enunciados diferentes relacionados con la historia de la fábula.**\n",
        "\n",
        "* #### **Sugerencia:** En realidad los dos incisos a y b se pueden obtener con un solo prompt que solicite la información y el formato correspondiente para cada una de estas partes. Por ejemplo, para cada fábula la salida puede ser un primer enunciado genérico que resume o describe dicha temática; seguido de tres enunciados, cada uno hablando sobre una situación o parte diferente de la fábula."
      ],
      "metadata": {
        "id": "gWvzQ-aNwsVk"
      }
    },
    {
      "cell_type": "markdown",
      "source": [
        "Este fragmento utiliza un modelo de lenguaje (LLM) para generar, a partir de las palabras clave de cada fábula, un resumen y tres posibles subtemas. Para ello, se construye un prompt que describe la tarea a realizar usando la lista de palabras clave asociada a cada fábula. Luego, el modelo genera una respuesta con un enunciado que resume el contenido de la fábula y tres frases que representan posibles subtemas relacionados. Los resultados se almacenan en un diccionario para su posterior consulta o análisis."
      ],
      "metadata": {
        "id": "UtPV_N-mM3ig"
      }
    },
    {
      "cell_type": "code",
      "source": [
        "# Incluyan a continuación todas las celdas (de código o texto) que deseen...\n",
        "\n",
        "def generar_resumen_y_subtemas(palabras_clave, modelo=\"gpt-4\"):\n",
        "    resultados = {}\n",
        "    for nombre, lista in palabras_clave.items():\n",
        "        prompt = (\n",
        "            f\"Con base en esta lista de palabras clave: {', '.join(lista)}\\n\"\n",
        "            \"1. Genera un enunciado que resuma una fábula donde estas palabras aparezcan.\\n\"\n",
        "            \"2. Luego, genera tres posibles subtemas relacionados (como frases).\\n\"\n",
        "        )\n",
        "        response = client.chat.completions.create(\n",
        "            model=modelo,\n",
        "            messages=[{\"role\": \"user\", \"content\": prompt}],\n",
        "            temperature=0.7\n",
        "        )\n",
        "        texto = response.choices[0].message.content\n",
        "        resultados[nombre] = texto\n",
        "    return resultados\n",
        "\n",
        "resultados = generar_resumen_y_subtemas(palabras_clave)\n",
        "resultados"
      ],
      "metadata": {
        "colab": {
          "base_uri": "https://localhost:8080/"
        },
        "id": "veHrMK8KyC1B",
        "outputId": "6d09d75e-2ecf-4302-94a6-8d32630a6bd0"
      },
      "execution_count": null,
      "outputs": [
        {
          "output_type": "execute_result",
          "data": {
            "text/plain": [
              "{'audio_27': '1. En la fábula, el perro siempre perseguía a la zorra, pero cuando vio al león rugiendo, se sintió temorizado y rápidamente retrocedió. El león, surgidos de la nada, se volvió hacia el perro que antes perseguía sin temor a otros animales. Pero ahora, ni siquiera podía soportar la persecución del rey de las bestias. El perro, aprendiendo su lección, partió con el consejo de mantenerse siempre en su lugar y no molestar a los demás.\\n\\n2. Subtemas:\\n   - El papel de la intimidación y el miedo en las relaciones de poder.\\n   - La importancia de conocer y mantener nuestro lugar en la sociedad.\\n   - Las consecuencias de molestar o intimidar a los demás.',\n",
              " 'audio_05': '1. En la fábula, un malvado lobo intenta engañar a un caballo para que salga de su sembrado de cebada, su lugar preferido, y se convierta en su presa. El caballo, a pesar de oír los ruidos y las falsas promesas del lobo, decide seguir en su sembrado. Con el paso del tiempo, el lobo se repuso y volvió a atacar, pero el caballo, con sus fuertes oídos, siempre estaba alerta. Aunque parezca extraño, el caballo encontró un gusto especial en masticarla cebada mientras pasaba el rato y observaba al lobo y su manada de lobos intentar engañarlo una y otra vez. \\n   \\nSubtemas:\\n2.1. La astucia y resistencia del caballo frente al engaño del lobo.\\n2.2. La importancia de mantenerse alerta ante posibles peligros.\\n2.3. El valor de la paciencia y la persistencia en situaciones adversas.',\n",
              " 'audio_24': '1. En la fábula, un perro con un trozo de carne sabrosa en su boca vio su reflejo en un río y, suponiendo que era otro perro con un pedazo de carne aún mayor, soltó el suyo para arrebatar el ajeno, pero en realidad, solo quedó con las patas vacías, pues nunca tuvo el supuesto pedazo de carne más grande, demostrando así que la avaricia puede hacer perder lo que uno ya posee.\\n\\n2. Subtemas relacionados:\\n   - \"La avaricia y las consecuencias de ser codicioso\"\\n   - \"La percepción errónea de la realidad y su impacto en nuestras decisiones\"\\n   - \"La importancia de valorar y proteger lo que ya poseemos\"',\n",
              " 'audio_06': '1. En épocas antiguas, un rey lobo con una magnífica manera de tener poder, ordenando y moviendo sus propias leyes, una vez decidió que se repartiese un asno entre todos los animales de su reino. Sin embargo, el lobo, poniendo sus orejas primero, repartió el asno de manera desigual, poniendo en evidencia la ley del más fuerte.\\n\\n2. Los subtemas podrían ser:\\n   - La ley del más fuerte en la sociedad animal.\\n   - La manipulación de poder por parte del rey lobo.\\n   - La injusticia en la repartición de recursos en el reino animal.',\n",
              " 'audio_04': '1. En una situación peligrosa, un lobo hambriento sacó un hueso de su garganta con la ayuda de una grulla, a quien le pidió ayuda. El lobo, agradecido, le ofreció una paga, pero la grulla, sana y salva, consideró que salvarlo era suficiente recompensa y no aceptó el pago, salvo por un simple agradecimiento. A pesar de su actitud desinteresada, la grulla fue acusada por traficantes de ser cómplice del lobo, pero su cabeza y boca inocentes demostraron su inocencia ante todas las acusaciones.\\n\\n2. Subtemas:\\n   - La importancia del altruismo y la gratitud en la sociedad.\\n   - El papel de la falsa acusación y la inocencia en la justicia.\\n   - Las consecuencias inesperadas de la interacción entre diferentes especies animales.',\n",
              " 'audio_22': '1. En la fábula, un perro tragó una almeja redonda pensando que era un huevo, pero inmediatamente sintió un mal en su estómago. Luego, su dueño le pidió que reflexionara sobre su acción; el perro, al ver la situación en la que se encontraba, pensó que nunca debió haber tomado algo extraño. A pesar de las veces que lo había hecho anteriormente, esta vez se dio cuenta de que había pagado un precio merecido.\\n\\n2. Subtemas:\\n   a. Las consecuencias de tomar decisiones precipitadas sin reflexionar.\\n   b. El peligro de comer alimentos desconocidos o extraños.\\n   c. El aprendizaje y arrepentimiento tras un error cometido.',\n",
              " 'audio_14': '1. En la historia, un lobo poderoso se encuentra con un cabrito protegido en un sitio seguro, el lobo insultando al cabrito intenta provocar un enfrentamiento, pero el cabrito, en lugar de insultarle de vuelta, responde serenamente y le advierte que no siempre será infeliz. El lobo, aunque en principio lo vio como un signo de debilidad, reconoce el valor en sus palabras y se va, dejándole pasar la ocasión de ser una presa fácil.\\n\\n2. Subtemas:\\n   - La importancia de mantener la calma frente a la intimidación.\\n   - La sabiduría y valor en la no violencia.\\n   - La interpretación del poder y la seguridad desde diferentes perspectivas.',\n",
              " 'audio_26': '1. En la plaza pública, la sabia campanilla estaba sonando, llamando a las virtudes de los mayores. Pero un perro, sin más razón que su propia maldad, decidió morderla. Aunque pudo haber evitado su sino, el perro eligió morder y destruir, no sólo por su naturaleza, sino también por su presencia imponente. Y mientras el perro se presumía y se jactaba de su hazaña, la perra, que presenció todo, le puso en su lugar, enseñándole que presumir no es más que una forma de mostrar su propia ignorancia.\\n\\n2. Subtemas:\\n   - La importancia de la humildad y el respeto hacia los demás.\\n   - El poder de la sabiduría y cómo puede superar la fuerza física.\\n   - Las consecuencias de actuar impulsivamente y sin considerar las consecuencias.',\n",
              " 'audio_25': '1. En la fábula del carnicero y el perro, el carnicero ocupado, notando que un perro había penetrado en su tienda, exclamó con sorpresa. El perro, al verle, huyó con un trozo de carne que había logrado agarrar. El carnicero salió persiguiéndole, pero no pudo evitarlo. Volvió a su tienda, pensando en lo sucedido y prometió a sí mismo que no dejará que algo similar vuelva a suceder, sin importar el poder que tenga que usar. Cuando un cliente le preguntó qué pasó, el carnicero simplemente le dijo: \"Oye, no puedes creer lo que acaba de suceder. Pero no te preocupes, me aseguraré de que no vuelva a ocurrir. Si este perro se atreve a volver, no dejaré que se encuentre con nada que pueda llevarse\".\\n\\n2. \\n- Las consecuencias de la distracción en el trabajo.\\n- La interacción y conflicto entre humanos y animales.\\n- La importancia de la prevención y la solución de problemas.',\n",
              " 'audio_01': '1. En la fábula, un lobo perseguido busca un remedio para su situación y decide refugiarse en un templo donde se llevan a cabo sacrificios de corderos. Allí, se presenta como una víctima y propone ser el sacrificador en lugar de los sacrificados. Un pequeño cordero, sin embargo, replicó diciendo que preferiría perecer antes que tener a un lobo como sacrificador. A lo que el lobo responde que vale más ser el mayor y mejor, que un simple cordero. Pero el cordero, con fe en Dios, sostiene que es mejor ser pequeño y puro que ser un lobo, el eterno perseguido.\\n\\n2. Posibles subtemas:\\n- La lucha entre la astucia y la inocencia.\\n- La fe y la pureza como fuerzas contra la adversidad.\\n- El sacrificio y el valor de la vida en la moralidad.'}"
            ]
          },
          "metadata": {},
          "execution_count": 13
        }
      ]
    },
    {
      "cell_type": "markdown",
      "source": [
        "# **Ejercicio 6:**"
      ],
      "metadata": {
        "id": "Kx-dZSFJz9cK"
      }
    },
    {
      "cell_type": "markdown",
      "source": [
        "* #### **Incluyan sus conclusiones de la actividad audio-a-texto:**\n",
        "\n",
        "\n",
        "\n",
        "Los resultados de esta actividad demuestran con claridad el rendimiento superior del modelo openai/whisper-1 en tareas de transcripción automática. Su capacidad para preservar la ortografía, puntuación y segmentación del discurso lo posiciona como una herramienta altamente confiable para aplicaciones profesionales en procesamiento de audio. A diferencia de otros modelos evaluados, Whisper-1 mantiene la fidelidad semántica del mensaje original, incluso en los detalles contextuales más sutiles. Esto es especialmente relevante cuando se busca preservar la intención narrativa de textos como fábulas, donde los matices lingüísticos y morales deben conservarse con precisión.\n",
        "\n",
        "Además, el análisis temático mediante LDA y la posterior interpretación generada con un modelo de lenguaje permitió extraer el núcleo narrativo de cada audio y elaborar subtemas significativos. Estos subtemas revelan patrones morales y estructurales recurrentes en las fábulas, como la lucha entre fuerza y astucia, el aprendizaje a través del error, o la justicia en contextos simbólicos. Esta combinación de herramientas no solo facilita la clasificación y comprensión automatizada de contenidos orales, sino que también abre posibilidades para el desarrollo de sistemas educativos y de análisis literario apoyados por inteligencia artificial."
      ],
      "metadata": {
        "id": "3w3usdaC0BCj"
      }
    },
    {
      "cell_type": "markdown",
      "source": [
        "# **Fin de la actividad LDA y LMM: audio-a-texto**"
      ],
      "metadata": {
        "id": "CtB5Q3m41YQ0"
      }
    }
  ]
}