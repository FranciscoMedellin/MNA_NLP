{
  "nbformat": 4,
  "nbformat_minor": 0,
  "metadata": {
    "colab": {
      "provenance": []
    },
    "kernelspec": {
      "name": "python3",
      "display_name": "Python 3"
    },
    "language_info": {
      "name": "python"
    }
  },
  "cells": [
    {
      "cell_type": "code",
      "execution_count": 1,
      "metadata": {
        "id": "0b-wmXFGdQog"
      },
      "outputs": [],
      "source": [
        "import numpy as np\n",
        "import pandas as pd\n",
        "\n",
        "import re             # importamos \"re\" para el manejo de las expresiones regulares.\n"
      ]
    },
    {
      "cell_type": "code",
      "source": [
        "pddata = pd.read_csv(\"IMDB_Dataset_Spanish.csv\",\n",
        "                   header='infer',\n",
        "                   engine='python'\n",
        "                   )\n",
        "\n",
        "pddata  # DataFrame"
      ],
      "metadata": {
        "id": "oTz0xKwHocQV"
      },
      "execution_count": null,
      "outputs": []
    },
    {
      "cell_type": "code",
      "source": [
        "pddata.iloc[1,0]"
      ],
      "metadata": {
        "id": "dhMVov3V7qaJ"
      },
      "execution_count": null,
      "outputs": []
    },
    {
      "cell_type": "code",
      "source": [
        "pddata.shape"
      ],
      "metadata": {
        "colab": {
          "base_uri": "https://localhost:8080/"
        },
        "id": "8UDABucm8E4Y",
        "outputId": "1f2acdfd-bc19-4ab8-ec8d-1369f0a4098d"
      },
      "execution_count": null,
      "outputs": [
        {
          "output_type": "execute_result",
          "data": {
            "text/plain": [
              "(1700, 1)"
            ]
          },
          "metadata": {},
          "execution_count": 5
        }
      ]
    },
    {
      "cell_type": "code",
      "source": [
        "tt = pddata.iloc[10,0]   # 10, 11, 18\n",
        "tt     # string"
      ],
      "metadata": {
        "id": "FmIYWa_aOfVh"
      },
      "execution_count": null,
      "outputs": []
    },
    {
      "cell_type": "code",
      "source": [
        "# Buscar los lugares donde no se incluyó un espacio en blanco después del\n",
        "# punto y seguido:\n",
        "\n",
        "None\n"
      ],
      "metadata": {
        "id": "r8IrpsVX-zjy"
      },
      "execution_count": 8,
      "outputs": []
    },
    {
      "cell_type": "code",
      "source": [
        "# Verifica que solo exista un espacio en blanco después de un punto y seguido.\n",
        "\n",
        "\n",
        "None\n",
        "\n"
      ],
      "metadata": {
        "colab": {
          "base_uri": "https://localhost:8080/",
          "height": 87
        },
        "id": "MlWJWck9PMMR",
        "outputId": "ee3326f3-3442-4e6d-c2fb-5f0119209ae6"
      },
      "execution_count": 9,
      "outputs": [
        {
          "output_type": "execute_result",
          "data": {
            "text/plain": [
              "'Phil El alienígena es una de esas películas peculiares donde el humor se basa en la rareza de todo en lugar de los Punchlines reales. En primer lugar, fue muy extraño y bastante divertido, pero a medida que avanzaba la película. Ya no encontré los chistes o la rareza. Es una película de bajo presupuesto (eso nunca es un problema en sí mismo), hubo algunos personajes bastante interesantes, pero eventualmente acabo de perder interés. Me imagino que esta película atraería a un Stoner que participe actualmente. Para algo similar, pero mejor intente \"hermanode otro planeta \"'"
            ],
            "application/vnd.google.colaboratory.intrinsic+json": {
              "type": "string"
            }
          },
          "metadata": {},
          "execution_count": 9
        }
      ]
    },
    {
      "cell_type": "code",
      "source": [
        "# Encuentra todas las vocales acentuadas o con diéresis:\n",
        "\n",
        "None\n",
        "\n"
      ],
      "metadata": {
        "id": "j264k4r0_xaa"
      },
      "execution_count": 10,
      "outputs": []
    },
    {
      "cell_type": "code",
      "source": [
        "# Encuentra todas las vocales acentuadas y con diéresis, con toda la palabra completa:\n",
        "\n",
        "None\n",
        "\n"
      ],
      "metadata": {
        "id": "ouC1-G3oUn3a"
      },
      "execution_count": 11,
      "outputs": []
    },
    {
      "cell_type": "code",
      "source": [
        "# DataFrame a Lista:\n",
        "\n",
        "# Podemos transformar los comentarios a una lista de Strings,\n",
        "# en lugar de un DataFrame:\n",
        "\n",
        "listdata = pddata['comentarios'].tolist()\n",
        "\n",
        "len(listdata)"
      ],
      "metadata": {
        "id": "FSHiA4gqEpMU"
      },
      "execution_count": null,
      "outputs": []
    },
    {
      "cell_type": "code",
      "source": [
        "listdata[9]   # seleccionemos alguno de los comentarios"
      ],
      "metadata": {
        "id": "PGDLFuDBG7M0"
      },
      "execution_count": null,
      "outputs": []
    },
    {
      "cell_type": "code",
      "source": [
        "listdata[9].split()   # por paralabra de manera predeterminada por espacio en blanco\n",
        "\n",
        "#listdata[9].split('.')      #  separar por punto"
      ],
      "metadata": {
        "id": "usrklW92IV9w"
      },
      "execution_count": null,
      "outputs": []
    },
    {
      "cell_type": "markdown",
      "source": [
        "### **Trata de inferir qué hacen las siguientes instrucciones antes de ejecutarlas:**"
      ],
      "metadata": {
        "id": "ju0sM1ACgSKs"
      }
    },
    {
      "cell_type": "code",
      "source": [
        "Q=[]\n",
        "\n",
        "for doc in listdata:\n",
        "  tmp = re.findall(r'\\w+!{2,}', doc)      # <<<<<<<<<<<<<<<<<\n",
        "  if tmp:\n",
        "    Q = Q + tmp\n",
        "\n",
        "print('Cadenas de caracteres encontradas:', Q)\n",
        "print('Total de cadenas de caracteres encontrados:', len(Q))"
      ],
      "metadata": {
        "id": "_Krl0RpWEATT"
      },
      "execution_count": null,
      "outputs": []
    },
    {
      "cell_type": "code",
      "source": [
        "# Signos \"!\"\" con espacios en blanco antes y después:\n",
        "\n",
        "Q=[]\n",
        "\n",
        "for doc in listdata:\n",
        "  tmp = re.findall(r'\\s!{1,}\\s', doc)    # <<<<<<<<<<<<<<<<<\n",
        "  if tmp:\n",
        "    Q = Q + tmp\n",
        "\n",
        "print('Cadenas de caracteres encontradas:', Q)\n",
        "print('Total de cadenas de caracteres encontrados:', len(Q))"
      ],
      "metadata": {
        "id": "f5B3IhhFan5a"
      },
      "execution_count": null,
      "outputs": []
    },
    {
      "cell_type": "code",
      "source": [
        "# palabras con dos o más signos de admiración al principio y al final de una palabra:\n",
        "\n",
        "Q=[]\n",
        "\n",
        "for doc in listdata:\n",
        "  tmp = re.findall(r'¡{2,}.+!{2,}', doc)       # <<<<<<<<<<<<<<<<<\n",
        "  if tmp:\n",
        "    Q = Q + tmp\n",
        "\n",
        "print('Cadenas de caracteres encontradas:', Q)\n",
        "print('Total de cadenas de caracteres encontrados:', len(Q))"
      ],
      "metadata": {
        "id": "5XfUimLzbPQj"
      },
      "execution_count": null,
      "outputs": []
    },
    {
      "cell_type": "code",
      "source": [
        "\n",
        "re.sub('ñ', 'gn', 'Picasso nació en España.')"
      ],
      "metadata": {
        "colab": {
          "base_uri": "https://localhost:8080/",
          "height": 35
        },
        "id": "OTPn4eFQtYZs",
        "outputId": "309e3cc7-09cd-4b75-95a3-958a58f59030"
      },
      "execution_count": null,
      "outputs": [
        {
          "output_type": "execute_result",
          "data": {
            "text/plain": [
              "'Picasso nació en Espagna.'"
            ],
            "application/vnd.google.colaboratory.intrinsic+json": {
              "type": "string"
            }
          },
          "metadata": {},
          "execution_count": 104
        }
      ]
    },
    {
      "cell_type": "code",
      "source": [
        "\n",
        "re.sub('o+', 'o', 'Hoooola.')"
      ],
      "metadata": {
        "colab": {
          "base_uri": "https://localhost:8080/",
          "height": 35
        },
        "id": "RZqcu96v-qMw",
        "outputId": "f4d308ed-fc40-40a8-cc59-0615bf37a714"
      },
      "execution_count": null,
      "outputs": [
        {
          "output_type": "execute_result",
          "data": {
            "text/plain": [
              "'Hola.'"
            ],
            "application/vnd.google.colaboratory.intrinsic+json": {
              "type": "string"
            }
          },
          "metadata": {},
          "execution_count": 105
        }
      ]
    }
  ]
}